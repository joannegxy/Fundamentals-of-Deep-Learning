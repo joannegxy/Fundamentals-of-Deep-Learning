{
 "cells": [
  {
   "cell_type": "code",
   "execution_count": 4,
   "id": "892b650b-c05d-4fa1-a204-dfedf6871d37",
   "metadata": {},
   "outputs": [],
   "source": [
    "from sklearn.datasets import load_wine\n",
    "from sklearn.model_selection import train_test_split\n",
    "from sklearn.preprocessing import StandardScaler\n",
    "from sklearn.linear_model import LogisticRegression\n",
    "from sklearn.metrics import accuracy_score"
   ]
  },
  {
   "cell_type": "code",
   "execution_count": 5,
   "id": "0c754d84-912f-4382-a5fd-a752aaee6b41",
   "metadata": {},
   "outputs": [],
   "source": [
    "wines = load_wine()\n",
    "X=wines.data\n",
    "Y=wines.target"
   ]
  },
  {
   "cell_type": "code",
   "execution_count": 20,
   "id": "d0351544-507a-4f83-82c6-ba33246f0b62",
   "metadata": {},
   "outputs": [],
   "source": [
    "X_train,X_test,Y_train,Y_test=train_test_split(\n",
    "    X,\n",
    "    Y,\n",
    "    test_size=0.2,\n",
    "    random_state=1,\n",
    "    shuffle=True,\n",
    "    stratify=Y)"
   ]
  },
  {
   "cell_type": "code",
   "execution_count": 39,
   "id": "e9d1551f-a9bd-47aa-b7da-81cbf7475a84",
   "metadata": {},
   "outputs": [],
   "source": [
    "ss=StandardScaler()\n",
    "X_train_std=ss.fit_transform(X_train)\n",
    "X_test_std=ss.fit_transform(X_test)\n"
   ]
  },
  {
   "cell_type": "code",
   "execution_count": 41,
   "id": "2c487228-494c-4480-8454-1cf8634c0284",
   "metadata": {},
   "outputs": [],
   "source": [
    "L_model=LogisticRegression()\n",
    "L_model.fit(X_train_std,Y_train)\n",
    "Y_pred=L_model.predict(X_test_std)"
   ]
  },
  {
   "cell_type": "code",
   "execution_count": 33,
   "id": "021029af-c0f3-4909-90fd-83b3dcd99b3f",
   "metadata": {},
   "outputs": [
    {
     "name": "stdout",
     "output_type": "stream",
     "text": [
      "accuracy:0.97\n",
      "MissClassified:  1\n"
     ]
    }
   ],
   "source": [
    "acc=accuracy_score(Y_pred,Y_test)\n",
    "print(f\"accuracy:{acc:.2f}\")\n",
    "\n",
    "miss_classified = (Y_pred != Y_test).sum()  \n",
    "print(\"MissClassified: \", miss_classified)"
   ]
  },
  {
   "cell_type": "code",
   "execution_count": 34,
   "id": "191a9a15-424f-4e92-acd3-4c2b682cc4b1",
   "metadata": {},
   "outputs": [
    {
     "data": {
      "text/plain": [
       "array([1, 1, 2, 0, 2, 0, 2, 1, 2, 2, 0, 1, 1, 2, 1, 1, 1, 0, 0, 0, 1, 0,\n",
       "       2, 0, 1, 0, 0, 1, 1, 0, 2, 1, 2, 2, 2, 0])"
      ]
     },
     "execution_count": 34,
     "metadata": {},
     "output_type": "execute_result"
    }
   ],
   "source": [
    "Y_pred"
   ]
  },
  {
   "cell_type": "code",
   "execution_count": 35,
   "id": "bcdae219-9ca4-4428-88c4-9038f8ac155c",
   "metadata": {},
   "outputs": [
    {
     "data": {
      "text/plain": [
       "array([1, 1, 2, 0, 2, 0, 2, 1, 2, 1, 0, 1, 1, 2, 1, 1, 1, 0, 0, 0, 1, 0,\n",
       "       2, 0, 1, 0, 0, 1, 1, 0, 2, 1, 2, 2, 2, 0])"
      ]
     },
     "execution_count": 35,
     "metadata": {},
     "output_type": "execute_result"
    }
   ],
   "source": [
    "Y_test"
   ]
  }
 ],
 "metadata": {
  "kernelspec": {
   "display_name": "Python 3 (ipykernel)",
   "language": "python",
   "name": "python3"
  },
  "language_info": {
   "codemirror_mode": {
    "name": "ipython",
    "version": 3
   },
   "file_extension": ".py",
   "mimetype": "text/x-python",
   "name": "python",
   "nbconvert_exporter": "python",
   "pygments_lexer": "ipython3",
   "version": "3.9.21"
  }
 },
 "nbformat": 4,
 "nbformat_minor": 5
}
