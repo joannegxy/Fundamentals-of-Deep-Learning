{
 "cells": [
  {
   "cell_type": "code",
   "execution_count": 2,
   "id": "8c5bef6f",
   "metadata": {},
   "outputs": [
    {
     "name": "stdout",
     "output_type": "stream",
     "text": [
      "sitting\n"
     ]
    }
   ],
   "source": [
    "import os\n",
    "\n",
    "# 设置从https://hf-mirror.com下载模型，否则会从huggingface.co下载\n",
    "os.environ[\"HF_ENDPOINT\"] = \"https://hf-mirror.com\"\n",
    "\n",
    "from PIL import Image\n",
    "from transformers import BlipProcessor, BlipForQuestionAnswering\n",
    "\n",
    "# 视觉问答处理器\n",
    "processor = BlipProcessor.from_pretrained(\"Salesforce/blip-vqa-base\") \n",
    "# 加载模型\n",
    "model = BlipForQuestionAnswering.from_pretrained(\"Salesforce/blip-vqa-base\")\n",
    "# 加载图片\n",
    "raw_image = Image.open('./rabbit.jpg').convert('RGB')\n",
    "\n",
    "# 回答的问题\n",
    "question = \"how many rabbits are in the picture?\"\n",
    "question = \"what is in the picture, and what are they doing?\" \n",
    "# 处理输入\n",
    "inputs = processor(raw_image, question, return_tensors=\"pt\") \n",
    "# 生成答案\n",
    "out = model.generate(**inputs)\n",
    "# 解码输出\n",
    "print(processor.decode(out[0], skip_special_tokens=True))\n"
   ]
  }
 ],
 "metadata": {
  "kernelspec": {
   "display_name": "Python 3 (ipykernel)",
   "language": "python",
   "name": "python3"
  },
  "language_info": {
   "codemirror_mode": {
    "name": "ipython",
    "version": 3
   },
   "file_extension": ".py",
   "mimetype": "text/x-python",
   "name": "python",
   "nbconvert_exporter": "python",
   "pygments_lexer": "ipython3",
   "version": "3.10.12"
  }
 },
 "nbformat": 4,
 "nbformat_minor": 5
}
