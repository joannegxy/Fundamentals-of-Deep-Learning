{
 "cells": [
  {
   "cell_type": "code",
   "execution_count": 3,
   "id": "54935668",
   "metadata": {},
   "outputs": [
    {
     "name": "stdout",
     "output_type": "stream",
     "text": [
      "tensor([[9.9982e-01, 1.3417e-04, 4.3464e-05]], grad_fn=<SoftmaxBackward0>)\n"
     ]
    }
   ],
   "source": [
    "# 方法1：不用 pipeline，直接使用 CLIPProcessor 和 CLIPModel\n",
    "import os\n",
    "# 设置从https://hf-mirror.com下载模型，否则会从huggingface.co下载\n",
    "os.environ[\"HF_ENDPOINT\"] = \"https://hf-mirror.com\"\n",
    "\n",
    "from PIL import Image\n",
    "from transformers import CLIPProcessor, CLIPModel\n",
    "\n",
    "# 加载CLIP模型\n",
    "model = CLIPModel.from_pretrained(\"openai/clip-vit-base-patch32\")\n",
    "# 处理图像和文本的工具\n",
    "processor = CLIPProcessor.from_pretrained(\"openai/clip-vit-base-patch32\")\n",
    "# 打开图像文件\n",
    "image = Image.open(\"./rabbit.jpg\")\n",
    "\n",
    "# 定义文本标签\n",
    "labels = [\"a photo of rabbits\", \"a photo of dogs\", \"a photo of cars\"]\n",
    "inputs = processor(text=labels, images=image, return_tensors=\"pt\", padding=True)\n",
    "\n",
    "# 将图像和文本输入模型\n",
    "outputs = model(**inputs)\n",
    "\n",
    "# 图像与文本之间的相似度分数\n",
    "logits_per_image = outputs.logits_per_image \n",
    "\n",
    "# 计算概率\n",
    "probs = logits_per_image.softmax(dim=1) \n",
    "print(probs)"
   ]
  },
  {
   "cell_type": "code",
   "execution_count": 6,
   "id": "e719a9f6",
   "metadata": {},
   "outputs": [
    {
     "name": "stderr",
     "output_type": "stream",
     "text": [
      "Device set to use cuda:0\n"
     ]
    },
    {
     "data": {
      "text/plain": [
       "[{'score': 1.0, 'label': 'a photo of rabbit'},\n",
       " {'score': 2.1457672119140625e-05, 'label': 'a photo of dogs'},\n",
       " {'score': 2.562999725341797e-06, 'label': 'a photo of cars'}]"
      ]
     },
     "execution_count": 6,
     "metadata": {},
     "output_type": "execute_result"
    }
   ],
   "source": [
    "# 方法2：用 pipeline 更简洁\n",
    "import os\n",
    "\n",
    "# 设置从https://hf-mirror.com下载模型，否则会从huggingface.co下载\n",
    "os.environ[\"HF_ENDPOINT\"] = \"https://hf-mirror.com\"\n",
    "\n",
    "import torch\n",
    "from transformers import pipeline\n",
    "\n",
    "# 使用pipeline加载CLIP模型\n",
    "clip = pipeline(\n",
    "   task=\"zero-shot-image-classification\",\n",
    "   model=\"openai/clip-vit-base-patch32\",\n",
    "   torch_dtype=torch.bfloat16,\n",
    "   device=0\n",
    ")\n",
    "\n",
    "labels = [\"a photo of rabbit\", \"a photo of dogs\", \"a photo of cars\"]\n",
    "\n",
    "# 返回一个列表，包含每个标签的分数和标签名称\n",
    "clip(\"./rabbit.jpg\", candidate_labels=labels) "
   ]
  },
  {
   "cell_type": "code",
   "execution_count": null,
   "id": "ac5a02ac-d34b-43a3-ad4a-0811255856ec",
   "metadata": {},
   "outputs": [],
   "source": []
  }
 ],
 "metadata": {
  "kernelspec": {
   "display_name": "Python 3 (ipykernel)",
   "language": "python",
   "name": "python3"
  },
  "language_info": {
   "codemirror_mode": {
    "name": "ipython",
    "version": 3
   },
   "file_extension": ".py",
   "mimetype": "text/x-python",
   "name": "python",
   "nbconvert_exporter": "python",
   "pygments_lexer": "ipython3",
   "version": "3.10.12"
  }
 },
 "nbformat": 4,
 "nbformat_minor": 5
}
