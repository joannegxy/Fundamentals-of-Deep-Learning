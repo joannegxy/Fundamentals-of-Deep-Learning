{
 "cells": [
  {
   "cell_type": "code",
   "execution_count": null,
   "metadata": {},
   "outputs": [
    {
     "name": "stderr",
     "output_type": "stream",
     "text": [
      "Device set to use cpu\n"
     ]
    },
    {
     "name": "stdout",
     "output_type": "stream",
     "text": [
      "[{'translation_text': \"Hey, buddy. How's it going today?\"}]\n",
      "Hey, buddy. How's it going today?\n"
     ]
    },
    {
     "data": {
      "application/vnd.jupyter.widget-view+json": {
       "model_id": "98a17c50dcb9400e99ddc48d810e3307",
       "version_major": 2,
       "version_minor": 0
      },
      "text/plain": [
       "model.safetensors:   0%|          | 0.00/303M [00:00<?, ?B/s]"
      ]
     },
     "metadata": {},
     "output_type": "display_data"
    }
   ],
   "source": [
    "import os\n",
    "\n",
    "# 设置从https://hf-mirror.com下载模型，否则会从huggingface.co下载\n",
    "os.environ[\"HF_ENDPOINT\"] = \"https://hf-mirror.com\"\n",
    "\n",
    "from transformers import pipeline\n",
    "\n",
    "# 下载模型\n",
    "translator = pipeline(\"translation_ja_to_en\",   # 英文翻译为日语\n",
    "                      model=\"Helsinki-NLP/opus-mt-ja-en\", # 下载模型到本地\n",
    "                      device=0)        # 使用第一个GPU, 去掉该参数则使用CPU\n",
    "\n",
    "# 日文\n",
    "text = \"やあ、友よ 今日の調子は?\"\n",
    "# 翻译\n",
    "translation = translator(text)\n",
    "\n",
    "# 打印翻译结果\n",
    "print(translation)\n",
    "print(translation[0].get('translation_text'))\n"
   ]
  },
  {
   "cell_type": "code",
   "execution_count": 6,
   "metadata": {},
   "outputs": [
    {
     "name": "stdout",
     "output_type": "stream",
     "text": [
      "こんにちは、お友達！今日はどうですか？\n"
     ]
    }
   ],
   "source": [
    "import ollama\n",
    "\n",
    "model = \"7shi/llama-translate:8b-q4_K_M\"\n",
    "\n",
    "def translation(instruction, input_text):\n",
    "    prompt = f\"\"\"### Instruction:\n",
    "{instruction}\n",
    "\n",
    "### Input:\n",
    "{input_text}\n",
    "\n",
    "### Response:\n",
    "\"\"\"\n",
    "    messages = [{ \"role\": \"user\", \"content\": prompt }]\n",
    "\n",
    "    try:\n",
    "        # Send the POST request and capture the response\n",
    "        response = ollama.chat(model=model, messages=messages)\n",
    "        # print(response)\n",
    "    except ollama.ResponseError as e:\n",
    "        # if the request was failed\n",
    "        print(\"Error:\", e.error)\n",
    "        return None\n",
    "\n",
    "    # Extract the 'content' field from the response\n",
    "    response_content = response[\"message\"][\"content\"].strip()\n",
    "    return response_content\n",
    "\n",
    "translated_line = translation(f\"Translate English to Japanese.\", \"Hello my friends! How are you doing today?\")\n",
    "print(translated_line)\n"
   ]
  }
 ],
 "metadata": {
  "kernelspec": {
   "display_name": "deeplearning",
   "language": "python",
   "name": "python3"
  },
  "language_info": {
   "codemirror_mode": {
    "name": "ipython",
    "version": 3
   },
   "file_extension": ".py",
   "mimetype": "text/x-python",
   "name": "python",
   "nbconvert_exporter": "python",
   "pygments_lexer": "ipython3",
   "version": "3.9.18"
  }
 },
 "nbformat": 4,
 "nbformat_minor": 2
}
