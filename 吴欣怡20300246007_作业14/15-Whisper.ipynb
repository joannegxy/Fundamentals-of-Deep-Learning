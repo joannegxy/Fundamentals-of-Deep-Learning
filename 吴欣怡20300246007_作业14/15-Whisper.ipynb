{
 "cells": [
  {
   "cell_type": "code",
   "execution_count": 4,
   "id": "a4625578",
   "metadata": {},
   "outputs": [
    {
     "name": "stderr",
     "output_type": "stream",
     "text": [
      "Device set to use cuda:0\n"
     ]
    },
    {
     "name": "stdout",
     "output_type": "stream",
     "text": [
      "{'text': ' My family goes skiing every winter.'}\n"
     ]
    }
   ],
   "source": [
    "import os\n",
    "\n",
    "# 设置从https://hf-mirror.com下载模型，否则会从huggingface.co下载\n",
    "os.environ[\"HF_ENDPOINT\"] = \"https://hf-mirror.com\"\n",
    "\n",
    "import torch\n",
    "import librosa # pip install librosa\n",
    "from transformers import pipeline\n",
    "\n",
    "# 加载音频文件\n",
    "audio, sample_rate = librosa.load(\"./reading.mp3\")\n",
    "\n",
    "# 处理音频数据\n",
    "pipeline = pipeline(\n",
    "    task=\"automatic-speech-recognition\",\n",
    "    model=\"openai/whisper-small\",\n",
    ")\n",
    "\n",
    "# 输出结果\n",
    "result = pipeline(audio) \n",
    "print(result)"
   ]
  }
 ],
 "metadata": {
  "kernelspec": {
   "display_name": "Python 3 (ipykernel)",
   "language": "python",
   "name": "python3"
  },
  "language_info": {
   "codemirror_mode": {
    "name": "ipython",
    "version": 3
   },
   "file_extension": ".py",
   "mimetype": "text/x-python",
   "name": "python",
   "nbconvert_exporter": "python",
   "pygments_lexer": "ipython3",
   "version": "3.10.12"
  }
 },
 "nbformat": 4,
 "nbformat_minor": 5
}
